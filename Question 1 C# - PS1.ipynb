{
 "cells": [
  {
   "cell_type": "code",
   "execution_count": null,
   "id": "33a2e265",
   "metadata": {},
   "outputs": [],
   "source": [
    "// Question 1\n",
    "\n",
    "Question 1 C#\n",
    "\n",
    "What data type is each of the following?\n",
    "    \n",
    "5 Integer\n",
    "5.0 Integer\n",
    "5 > 1 Boolean\n",
    "'5' string\n",
    "5 * 2 Integer\n",
    "'5' * 2 Integer\n",
    "'5' + '2' Integer\n",
    "5 / 2 float\n",
    "5 % 2 float\n",
    "{5, 2, 1} Integer\n",
    "5 == 3 Boolean\n",
    "Pi the number: float"
   ]
  }
 ],
 "metadata": {
  "kernelspec": {
   "display_name": ".NET (C#)",
   "language": "C#",
   "name": ".net-csharp"
  },
  "language_info": {
   "file_extension": ".cs",
   "mimetype": "text/x-csharp",
   "name": "C#",
   "pygments_lexer": "csharp",
   "version": "8.0"
  }
 },
 "nbformat": 4,
 "nbformat_minor": 5
}
